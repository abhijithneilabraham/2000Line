{
  "nbformat": 4,
  "nbformat_minor": 0,
  "metadata": {
    "colab": {
      "name": "embeddingtryout.ipynb",
      "version": "0.3.2",
      "provenance": [],
      "collapsed_sections": [],
      "include_colab_link": true
    },
    "kernelspec": {
      "name": "python3",
      "display_name": "Python 3"
    },
    "accelerator": "GPU"
  },
  "cells": [
    {
      "cell_type": "markdown",
      "metadata": {
        "id": "view-in-github",
        "colab_type": "text"
      },
      "source": [
        "<a href=\"https://colab.research.google.com/github/abhijithneilabraham/2000Line/blob/master/NLP/unclean_train_codes/embeddingtryout.ipynb\" target=\"_parent\"><img src=\"https://colab.research.google.com/assets/colab-badge.svg\" alt=\"Open In Colab\"/></a>"
      ]
    },
    {
      "cell_type": "code",
      "metadata": {
        "id": "2MHn6PUgC_Wi",
        "colab_type": "code",
        "colab": {}
      },
      "source": [
        "!pip install bert_embedding\n",
        "from bert_embedding import BertEmbedding\n",
        "from datetime import datetime\n",
        "import concurrent.futures\n",
        "import pandas as pd\n",
        "\n",
        "start_ts = datetime.now()\n",
        "bert_embedding=BertEmbedding(model='bert_24_1024_16', dataset_name='book_corpus_wiki_en_uncased')\n",
        "loaded_ts = datetime.now()\n",
        "load_time = loaded_ts - start_ts\n",
        "\n",
        "phrases = [['checking account'], ['savings account'], ['account balance']]\n",
        "\n",
        "h=pd.read_csv('test1.csv')\n",
        "x1=[[str(i)] for i in h['identifier']]\n",
        "def get_embedding(text):\n",
        "    res = bert_embedding(text, 'sum')\n",
        "    return res\n",
        "\n",
        "with concurrent.futures.ProcessPoolExecutor() as executor:\n",
        "    embeddings = executor.map(get_embedding, x1)\n",
        "    \n",
        "compute_ts1 = datetime.now()\n",
        "compute_time1 = compute_ts1 - loaded_ts\n",
        "\n",
        "with concurrent.futures.ProcessPoolExecutor() as executor:\n",
        "    embeddings = executor.map(get_embedding, x1)\n",
        "compute_ts2 = datetime.now()\n",
        "compute_time2 = compute_ts2 - compute_ts1\n",
        "\n",
        "for embedding in embeddings:\n",
        "    print(embedding)\n",
        "print(load_time.total_seconds(), compute_time1.total_seconds(), compute_time2.total_seconds())\n"
      ],
      "execution_count": 0,
      "outputs": []
    },
    {
      "cell_type": "code",
      "metadata": {
        "id": "4DPaJ_HJDDHk",
        "colab_type": "code",
        "colab": {
          "base_uri": "https://localhost:8080/",
          "height": 90
        },
        "outputId": "d790b2a1-6d4f-4500-bc11-a9374606dc5e"
      },
      "source": [
        "\n",
        "from bert_embedding import BertEmbedding\n",
        "import pandas as pd\n",
        "\n",
        "\n",
        "bert_embedding=BertEmbedding(model='bert_24_1024_16', dataset_name='book_corpus_wiki_en_cased')\n",
        "\n",
        "phrases = [['checking account'], ['savings account'], ['account balance']]\n",
        "h=pd.read_csv('test1.csv')\n",
        "x1=[[str(i)] for i in h['identifier']]\n",
        "\n",
        "def get_embedding(text):\n",
        "    res = bert_embedding(text, 'avg')\n",
        "    return res\n",
        "\n",
        "import multiprocessing as mp\n",
        "pool = mp.Pool(mp.cpu_count())\n",
        "results = pool.map(get_embedding, [row for row in x1])\n",
        "pool.close()\n",
        "print(results)"
      ],
      "execution_count": 0,
      "outputs": [
        {
          "output_type": "stream",
          "text": [
            "Vocab file is not found. Downloading.\n",
            "Downloading /root/.mxnet/models/book_corpus_wiki_en_cased-2d62af22.zip from https://apache-mxnet.s3-accelerate.dualstack.amazonaws.com/gluon/dataset/vocab/book_corpus_wiki_en_cased-2d62af22.zip...\n",
            "Downloading /root/.mxnet/models/bert_24_1024_16_book_corpus_wiki_en_cased-4e685a96.zip from https://apache-mxnet.s3-accelerate.dualstack.amazonaws.com/gluon/models/bert_24_1024_16_book_corpus_wiki_en_cased-4e685a96.zip...\n"
          ],
          "name": "stdout"
        }
      ]
    },
    {
      "cell_type": "code",
      "metadata": {
        "id": "4q-nRuPfjjTk",
        "colab_type": "code",
        "colab": {
          "base_uri": "https://localhost:8080/",
          "height": 34
        },
        "outputId": "d657ea50-8b9f-45d8-8ffc-14453d897a8c"
      },
      "source": [
        ""
      ],
      "execution_count": 8,
      "outputs": [
        {
          "output_type": "stream",
          "text": [
            "Requirement already satisfied: dask in /usr/local/lib/python3.6/dist-packages (1.1.5)\n"
          ],
          "name": "stdout"
        }
      ]
    }
  ]
}