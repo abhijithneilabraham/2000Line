{
  "nbformat": 4,
  "nbformat_minor": 0,
  "metadata": {
    "colab": {
      "name": "Untitled46.ipynb",
      "version": "0.3.2",
      "provenance": [],
      "collapsed_sections": [],
      "include_colab_link": true
    },
    "kernelspec": {
      "name": "python2",
      "display_name": "Python 2"
    },
    "accelerator": "GPU"
  },
  "cells": [
    {
      "cell_type": "markdown",
      "metadata": {
        "id": "view-in-github",
        "colab_type": "text"
      },
      "source": [
        "<a href=\"https://colab.research.google.com/github/abhijithneilabraham/2000Line/blob/master/abibletestcolab.ipynb\" target=\"_parent\"><img src=\"https://colab.research.google.com/assets/colab-badge.svg\" alt=\"Open In Colab\"/></a>"
      ]
    },
    {
      "cell_type": "code",
      "metadata": {
        "id": "DAVsmW5jpg9j",
        "colab_type": "code",
        "outputId": "ca8692d5-730e-4c3e-d1bb-4d6a7e63f2d8",
        "colab": {
          "base_uri": "https://localhost:8080/",
          "height": 176
        }
      },
      "source": [
        "!pip install pdfminer"
      ],
      "execution_count": 1,
      "outputs": [
        {
          "output_type": "stream",
          "text": [
            "Collecting pdfminer\n",
            "\u001b[?25l  Downloading https://files.pythonhosted.org/packages/57/4f/e1df0437858188d2d36466a7bb89aa024d252bd0b7e3ba90cbc567c6c0b8/pdfminer-20140328.tar.gz (4.1MB)\n",
            "\u001b[K     |████████████████████████████████| 4.1MB 6.5MB/s \n",
            "\u001b[?25hBuilding wheels for collected packages: pdfminer\n",
            "  Building wheel for pdfminer (setup.py) ... \u001b[?25l\u001b[?25hdone\n",
            "  Stored in directory: /root/.cache/pip/wheels/1b/af/91/b925461baf990ee92513dd451237a7570fca3e7f8dd5439e5b\n",
            "Successfully built pdfminer\n",
            "Installing collected packages: pdfminer\n",
            "Successfully installed pdfminer-20140328\n"
          ],
          "name": "stdout"
        }
      ]
    },
    {
      "cell_type": "code",
      "metadata": {
        "id": "7st3zz7BrxqO",
        "colab_type": "code",
        "colab": {}
      },
      "source": [
        "from pdfminer.pdfinterp import PDFResourceManager, PDFPageInterpreter\n",
        "from pdfminer.converter import TextConverter\n",
        "from pdfminer.layout import LAParams\n",
        "from pdfminer.pdfpage import PDFPage\n",
        "from io import BytesIO\n",
        "from gensim.summarization.summarizer import summarize\n",
        "from gensim.summarization import keywords\n",
        "from nltk.stem import WordNetLemmatizer\n",
        "import nltk\n",
        "from nltk import tokenize\n",
        "import numpy as np\n",
        "from textblob import TextBlob \n",
        "\n",
        "def pdf_to_text(path):\n",
        "    manager = PDFResourceManager()\n",
        "    retstr = BytesIO()\n",
        "    layout = LAParams(all_texts=True)\n",
        "    device = TextConverter(manager, retstr, laparams=layout)\n",
        "    filepath = open(path, 'rb')\n",
        "    interpreter = PDFPageInterpreter(manager, device)\n",
        "\n",
        "    for page in PDFPage.get_pages(filepath, check_extractable=True):\n",
        "        interpreter.process_page(page)\n",
        "\n",
        "    text = retstr.getvalue()\n",
        "\n",
        "    filepath.close()\n",
        "    device.close()\n",
        "    retstr.close()\n",
        "    return text\n",
        "\n",
        "\n",
        "text = pdf_to_text(\"bible.pdf\")\n",
        "print(summarize(text,word_count=1000))"
      ],
      "execution_count": 0,
      "outputs": []
    }
  ]
}