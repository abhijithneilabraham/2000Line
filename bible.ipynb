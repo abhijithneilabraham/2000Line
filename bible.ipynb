{
  "nbformat": 4,
  "nbformat_minor": 0,
  "metadata": {
    "colab": {
      "name": "bible.ipynb",
      "version": "0.3.2",
      "provenance": [],
      "include_colab_link": true
    },
    "kernelspec": {
      "name": "python2",
      "display_name": "Python 2"
    },
    "accelerator": "GPU"
  },
  "cells": [
    {
      "cell_type": "markdown",
      "metadata": {
        "id": "view-in-github",
        "colab_type": "text"
      },
      "source": [
        "<a href=\"https://colab.research.google.com/github/abhijithneilabraham/2000Line/blob/master/bible.ipynb\" target=\"_parent\"><img src=\"https://colab.research.google.com/assets/colab-badge.svg\" alt=\"Open In Colab\"/></a>"
      ]
    },
    {
      "cell_type": "code",
      "metadata": {
        "id": "t6Ukl7mfBaEi",
        "colab_type": "code",
        "outputId": "4195cc52-ed30-4003-ff18-bd6615005933",
        "colab": {
          "base_uri": "https://localhost:8080/",
          "height": 34
        }
      },
      "source": [
        "!pip install pdfminer"
      ],
      "execution_count": 1,
      "outputs": [
        {
          "output_type": "stream",
          "text": [
            "Requirement already satisfied: pdfminer in /usr/local/lib/python2.7/dist-packages (20140328)\n"
          ],
          "name": "stdout"
        }
      ]
    },
    {
      "cell_type": "code",
      "metadata": {
        "id": "k2JJz0ZxHXu4",
        "colab_type": "code",
        "colab": {}
      },
      "source": [
        "%cd pattern-3.6"
      ],
      "execution_count": 0,
      "outputs": []
    },
    {
      "cell_type": "code",
      "metadata": {
        "id": "inE9TNrmln9h",
        "colab_type": "code",
        "colab": {}
      },
      "source": [
        "from pdfminer.pdfinterp import PDFResourceManager, PDFPageInterpreter\n",
        "from pdfminer.converter import TextConverter\n",
        "from pdfminer.layout import LAParams\n",
        "from pdfminer.pdfpage import PDFPage\n",
        "from io import BytesIO\n",
        "from gensim.summarization.summarizer import summarize\n",
        "from gensim.summarization import keywords\n",
        "from nltk.stem import WordNetLemmatizer\n",
        "import nltk\n",
        "from nltk import tokenize\n",
        "import numpy as np\n",
        "from textblob import TextBlob \n",
        "\n",
        "def pdf_to_text(path):\n",
        "    manager = PDFResourceManager()\n",
        "    retstr = BytesIO()\n",
        "    layout = LAParams(all_texts=True)\n",
        "    device = TextConverter(manager, retstr, laparams=layout)\n",
        "    filepath = open(path, 'rb')\n",
        "    interpreter = PDFPageInterpreter(manager, device)\n",
        "\n",
        "    for page in PDFPage.get_pages(filepath, check_extractable=True):\n",
        "        interpreter.process_page(page)\n",
        "\n",
        "    text = retstr.getvalue()\n",
        "\n",
        "    filepath.close()\n",
        "    device.close()\n",
        "    retstr.close()\n",
        "    return text\n",
        "\n",
        "\n",
        "text = pdf_to_text(\"psalms.pdf\")\n",
        "\n",
        "\n",
        "out=summarize(text,word_count=200)\n"
      ],
      "execution_count": 0,
      "outputs": []
    },
    {
      "cell_type": "code",
      "metadata": {
        "id": "E6njlBJ38aYJ",
        "colab_type": "code",
        "colab": {
          "base_uri": "https://localhost:8080/",
          "height": 247
        },
        "outputId": "e3fce00b-b054-4e18-a874-5bb6c7b28d7e"
      },
      "source": [
        "\n",
        "out=out.replace(\"thee\",\"you\")\n",
        "out=out.replace(\"thou\",\"you\")\n",
        "out=out.replace(\"art\",\"are\")\n",
        "out=out.replace(\"thy\",\"your\")\n",
        "print(out)"
      ],
      "execution_count": 12,
      "outputs": [
        {
          "output_type": "stream",
          "text": [
            "4 For you are not a God that loveth wickedness: neither shall evil dwell with you.\n",
            "10 And they that know your Name, will trust in you: for you, Lord, hast not failed \n",
            "49 Therefore I will praise you, O Lord, among the nations, and will sing unto your \n",
            "8 When you saidest, Seek ye my face, mine heare answered unto you, O Lord, I \n",
            "2 O Lord my God, I cried unto you, and you hast restored me.\n",
            "12 Therefore shall my tongue praise you and not cease: O Lord my God, I will \n",
            "5 Into thine hand I commend my spirit: for you hast redeemed me, O Lord God \n",
            "14 But I trusted in you, O Lord: I said, Thou are my God.\n",
            "5 Commit your way unto the Lord, and trust in him, and he shall bring it to pass.\n",
            "5 O Lord my God, you hast made your wonderful works so many, that none can \n",
            "15 Open you my lips, O Lord, and my mouth shall shew forth your praise.\n",
            "men: yea, even the rebellious hast you led, that the Lord God might dwell there.\n",
            "23 My lips will rejoice when I sing unto you, and my soul, which you hast \n"
          ],
          "name": "stdout"
        }
      ]
    }
  ]
}