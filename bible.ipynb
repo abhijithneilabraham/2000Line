{
  "nbformat": 4,
  "nbformat_minor": 0,
  "metadata": {
    "colab": {
      "name": "bible.ipynb",
      "version": "0.3.2",
      "provenance": [],
      "include_colab_link": true
    },
    "kernelspec": {
      "name": "python2",
      "display_name": "Python 2"
    },
    "accelerator": "GPU"
  },
  "cells": [
    {
      "cell_type": "markdown",
      "metadata": {
        "id": "view-in-github",
        "colab_type": "text"
      },
      "source": [
        "<a href=\"https://colab.research.google.com/github/abhijithneilabraham/2000Line/blob/master/bible.ipynb\" target=\"_parent\"><img src=\"https://colab.research.google.com/assets/colab-badge.svg\" alt=\"Open In Colab\"/></a>"
      ]
    },
    {
      "cell_type": "code",
      "metadata": {
        "id": "t6Ukl7mfBaEi",
        "colab_type": "code",
        "outputId": "4195cc52-ed30-4003-ff18-bd6615005933",
        "colab": {
          "base_uri": "https://localhost:8080/",
          "height": 34
        }
      },
      "source": [
        "!pip install pdfminer"
      ],
      "execution_count": 1,
      "outputs": [
        {
          "output_type": "stream",
          "text": [
            "Requirement already satisfied: pdfminer in /usr/local/lib/python2.7/dist-packages (20140328)\n"
          ],
          "name": "stdout"
        }
      ]
    },
    {
      "cell_type": "code",
      "metadata": {
        "id": "k2JJz0ZxHXu4",
        "colab_type": "code",
        "colab": {}
      },
      "source": [
        "%cd pattern-3.6"
      ],
      "execution_count": 0,
      "outputs": []
    },
    {
      "cell_type": "code",
      "metadata": {
        "id": "inE9TNrmln9h",
        "colab_type": "code",
        "colab": {}
      },
      "source": [
        "from pdfminer.pdfinterp import PDFResourceManager, PDFPageInterpreter\n",
        "from pdfminer.converter import TextConverter\n",
        "from pdfminer.layout import LAParams\n",
        "from pdfminer.pdfpage import PDFPage\n",
        "from io import BytesIO\n",
        "from gensim.summarization.summarizer import summarize\n",
        "from gensim.summarization import keywords\n",
        "from nltk.stem import WordNetLemmatizer\n",
        "import nltk\n",
        "from nltk import tokenize\n",
        "import numpy as np\n",
        "from textblob import TextBlob \n",
        "\n",
        "def pdf_to_text(path):\n",
        "    manager = PDFResourceManager()\n",
        "    retstr = BytesIO()\n",
        "    layout = LAParams(all_texts=True)\n",
        "    device = TextConverter(manager, retstr, laparams=layout)\n",
        "    filepath = open(path, 'rb')\n",
        "    interpreter = PDFPageInterpreter(manager, device)\n",
        "\n",
        "    for page in PDFPage.get_pages(filepath, check_extractable=True):\n",
        "        interpreter.process_page(page)\n",
        "\n",
        "    text = retstr.getvalue()\n",
        "\n",
        "    filepath.close()\n",
        "    device.close()\n",
        "    retstr.close()\n",
        "    return text\n",
        "\n",
        "\n",
        "text = pdf_to_text(\"psalms.pdf\")\n",
        "\n",
        "\n",
        "out=summarize(text,word_count=200)\n",
        "out.replace(\"thee\",\"you\")\n",
        "out.replace(\"thou\",\"you\")\n",
        "out.replace(\"art\",\"are\")\n",
        "print(out)"
      ],
      "execution_count": 0,
      "outputs": []
    }
  ]
}