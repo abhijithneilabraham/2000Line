{
  "nbformat": 4,
  "nbformat_minor": 0,
  "metadata": {
    "colab": {
      "name": "test1.ipynb",
      "version": "0.3.2",
      "provenance": [],
      "include_colab_link": true
    },
    "kernelspec": {
      "name": "python3",
      "display_name": "Python 3"
    },
    "accelerator": "GPU"
  },
  "cells": [
    {
      "cell_type": "markdown",
      "metadata": {
        "id": "view-in-github",
        "colab_type": "text"
      },
      "source": [
        "<a href=\"https://colab.research.google.com/github/abhijithneilabraham/2000Line/blob/master/test1.ipynb\" target=\"_parent\"><img src=\"https://colab.research.google.com/assets/colab-badge.svg\" alt=\"Open In Colab\"/></a>"
      ]
    },
    {
      "metadata": {
        "id": "tpF09eFkP7qv",
        "colab_type": "code",
        "colab": {
          "base_uri": "https://localhost:8080/",
          "height": 1172
        },
        "outputId": "3d706c7e-c98c-430d-c364-3dcccecdf009"
      },
      "cell_type": "code",
      "source": [
        "#!/usr/bin/env python3\n",
        "# -*- coding: utf-8 -*-\n",
        "\"\"\"\n",
        "Created on Sat Mar 23 10:56:52 2019\n",
        "\n",
        "@author: abhijithneilabraham\n",
        "\"\"\"\n",
        "import numpy as np\n",
        "import keras\n",
        "from keras.preprocessing import image\n",
        "from keras.models import Sequential\n",
        "from keras.layers import Dense, Flatten,Dropout, AveragePooling2D\n",
        "from keras.layers.convolutional import Conv2D, MaxPooling2D\n",
        "from keras.preprocessing.image import ImageDataGenerator\n",
        "import matplotlib.pyplot as plt\n",
        "num_classes = 7 #angry, disgust, fear, happy, sad, surprise, neutral\n",
        "batch_size = 256\n",
        "epochs = 10\n",
        "with open(\"fer2013.csv\") as f:\n",
        "    content = f.readlines()\n",
        "     \n",
        "    lines = np.array(content)\n",
        "     \n",
        "    num_of_instances = lines.size\n",
        "    print(\"number of instances: \",num_of_instances)\n",
        "x_train, y_train, x_test, y_test = [], [], [], []\n",
        " \n",
        "for i in range(1,num_of_instances):\n",
        " try:\n",
        "  emotion, img, usage = lines[i].split(\",\")\n",
        " \n",
        "  val = img.split(\" \")\n",
        "  pixels = np.array(val, 'float32')\n",
        " \n",
        "  emotion = keras.utils.to_categorical(emotion, num_classes)\n",
        " \n",
        "  if 'Training' in usage:\n",
        "   y_train.append(emotion)\n",
        "   x_train.append(pixels)\n",
        "  elif 'PublicTest' in usage:\n",
        "   y_test.append(emotion)\n",
        "   x_test.append(pixels)\n",
        " except:\n",
        "  print(\"\", end=\"\")\n",
        "x_train = np.array(x_train, 'float32')\n",
        "y_train = np.array(y_train, 'float32')\n",
        "x_test = np.array(x_test, 'float32')\n",
        "y_test = np.array(y_test, 'float32')\n",
        "\n",
        "x_train /= 255 #normalize inputs between [0, 1]\n",
        "x_test /= 255\n",
        "\n",
        "x_train = x_train.reshape(x_train.shape[0], 48, 48, 1)\n",
        "x_train = x_train.astype('float32')\n",
        "x_test = x_test.reshape(x_test.shape[0], 48, 48, 1)\n",
        "x_test = x_test.astype('float32')\n",
        "\n",
        "print(x_train.shape[0], 'train samples')\n",
        "print(x_test.shape[0], 'test samples')\n",
        "\n",
        "model=Sequential()\n",
        "\n",
        " \n",
        "#1st convolution layer\n",
        "model.add(Conv2D(64, (5, 5), activation='relu', input_shape=(48,48,1)))\n",
        "model.add(MaxPooling2D(pool_size=(5,5), strides=(2, 2)))\n",
        " \n",
        "#2nd convolution layer\n",
        "model.add(Conv2D(64, (3, 3), activation='relu'))\n",
        "model.add(Conv2D(64, (3, 3), activation='relu'))\n",
        "model.add(AveragePooling2D(pool_size=(3,3), strides=(2, 2)))\n",
        " \n",
        "#3rd convolution layer\n",
        "model.add(Conv2D(128, (3, 3), activation='relu'))\n",
        "model.add(Conv2D(128, (3, 3), activation='relu'))\n",
        "model.add(AveragePooling2D(pool_size=(3,3), strides=(2, 2)))\n",
        " \n",
        "model.add(Flatten())\n",
        " \n",
        "#fully connected neural networks\n",
        "model.add(Dense(1024, activation='relu'))\n",
        "model.add(Dropout(0.2))\n",
        "model.add(Dense(1024, activation='relu'))\n",
        "model.add(Dropout(0.2))\n",
        " \n",
        "model.add(Dense(7, activation='softmax'))\n",
        "gen = ImageDataGenerator()\n",
        "\n",
        "\n",
        "train_generator = gen.flow(x_train, y_train, batch_size=batch_size)\n",
        " \n",
        "model.compile(loss='categorical_crossentropy'\n",
        ", optimizer=keras.optimizers.Adam()\n",
        ", metrics=['accuracy']\n",
        ")\n",
        " \n",
        "model.fit_generator(train_generator, steps_per_epoch=batch_size, epochs=epochs)\n",
        "train_score = model.evaluate(x_train, y_train, verbose=0)\n",
        "print('Train loss:', train_score[0])\n",
        "print('Train accuracy:', 100*train_score[1])\n",
        "\n",
        "model.save('test1.h5')\n",
        "model.load_weights('test1.h5')\n",
        "def emotion_analysis(emotions):\n",
        "    objects = ('angry', 'disgust', 'fear', 'happy', 'sad', 'surprise', 'neutral')\n",
        "    y_pos = np.arange(len(objects))\n",
        "    \n",
        "    plt.bar(y_pos, emotions, align='center', alpha=0.5)\n",
        "    plt.xticks(y_pos, objects)\n",
        "    plt.ylabel('percentage')\n",
        "    plt.title('emotion')\n",
        "    \n",
        "    plt.show()\n",
        "    predictions = model.predict(x_test)\n",
        "    index=0\n",
        "    for i in predictions:\n",
        "      if index < 30 and index >= 20:\n",
        "      #print(i) #predicted scores\n",
        "      #print(y_test[index]) #actual scores\n",
        "\n",
        "        testing_img = np.array(x_test[index], 'float32')\n",
        "        testing_img = testing_img.reshape([48, 48]);\n",
        "\n",
        "        plt.gray()\n",
        "        plt.imshow(testing_img)\n",
        "        plt.show()\n",
        "\n",
        "        print(i)\n",
        "\n",
        "        emotion_analysis(i)\n",
        "        print(\"----------------------------------------------\")\n",
        "      index = index + 1\n",
        "img = image.load_img(\"test.jpg\", grayscale=True, target_size=(48, 48))\n",
        "\n",
        "x = image.img_to_array(img)\n",
        "x = np.expand_dims(x, axis = 0)\n",
        "\n",
        "x /= 255\n",
        "\n",
        "custom = model.predict(x)\n",
        "emotion_analysis(custom[0])\n",
        "\n",
        "x = np.array(x, 'float32')\n",
        "x = x.reshape([48, 48]);\n",
        "\n",
        "plt.gray()\n",
        "plt.imshow(x)\n",
        "plt.show()\n",
        "\n",
        "\n"
      ],
      "execution_count": 14,
      "outputs": [
        {
          "output_type": "stream",
          "text": [
            "number of instances:  16998\n",
            "16996 train samples\n",
            "0 test samples\n",
            "Epoch 1/10\n",
            "256/256 [==============================] - 17s 66ms/step - loss: 1.7867 - acc: 0.2592\n",
            "Epoch 2/10\n",
            "256/256 [==============================] - 15s 60ms/step - loss: 1.5570 - acc: 0.3832\n",
            "Epoch 3/10\n",
            "256/256 [==============================] - 16s 61ms/step - loss: 1.3474 - acc: 0.4815\n",
            "Epoch 4/10\n",
            "256/256 [==============================] - 16s 61ms/step - loss: 1.2113 - acc: 0.5376\n",
            "Epoch 5/10\n",
            "256/256 [==============================] - 16s 61ms/step - loss: 1.0966 - acc: 0.5841\n",
            "Epoch 6/10\n",
            "256/256 [==============================] - 16s 61ms/step - loss: 0.9832 - acc: 0.6303\n",
            "Epoch 7/10\n",
            "256/256 [==============================] - 16s 61ms/step - loss: 0.8432 - acc: 0.6882\n",
            "Epoch 8/10\n",
            "256/256 [==============================] - 16s 61ms/step - loss: 0.7070 - acc: 0.7387\n",
            "Epoch 9/10\n",
            "256/256 [==============================] - 16s 61ms/step - loss: 0.5564 - acc: 0.7948\n",
            "Epoch 10/10\n",
            "256/256 [==============================] - 16s 61ms/step - loss: 0.4409 - acc: 0.8393\n",
            "Train loss: 0.27748371231805635\n",
            "Train accuracy: 90.56248529065662\n"
          ],
          "name": "stdout"
        },
        {
          "output_type": "stream",
          "text": [
            "/usr/local/lib/python3.6/dist-packages/keras_preprocessing/image/utils.py:98: UserWarning: grayscale is deprecated. Please use color_mode = \"grayscale\"\n",
            "  warnings.warn('grayscale is deprecated. Please use '\n"
          ],
          "name": "stderr"
        },
        {
          "output_type": "display_data",
          "data": {
            "image/png": "[encoded data removed]",
            "text/plain": [
              "<Figure size 576x396 with 1 Axes>"
            ]
          },
          "metadata": {
            "tags": []
          }
        },
        {
          "output_type": "display_data",
          "data": {
            "image/png": "[encoded data removed]",
            "text/plain": [
              "<Figure size 576x396 with 1 Axes>"
            ]
          },
          "metadata": {
            "tags": []
          }
        }
      ]
    }
  ]
}